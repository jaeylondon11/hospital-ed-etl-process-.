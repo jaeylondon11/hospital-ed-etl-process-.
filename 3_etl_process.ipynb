{
 "cells": [
  {
   "cell_type": "markdown",
   "metadata": {},
   "source": [
    "# ETL Process\n",
    "\n",
    "This notebook demonstrates the ETL (Extract, Transform, Load) process for the hospital emergency department encounters dataset."
   ]
  },
  {
   "cell_type": "code",
   "execution_count": 1,
   "metadata": {},
   "outputs": [],
   "source": [
    "import pandas as pd\n",
    "import os\n",
    "\n",
    "# Extract\n",
    "def extract_data(file_path):\n",
    "    try:\n",
    "        data = pd.read_csv(file_path)\n",
    "        print(f\"Data extracted successfully with shape {data.shape}\")\n",
    "        return data\n",
    "    except Exception as e:\n",
    "        print(f\"Error extracting data: {e}\")\n",
    "        return None\n",
    "\n",
    "# Transform\n",
    "def transform_data(data):\n",
    "    # Example transformation: dropping missing values and duplicates\n",
    "    data = data.dropna().drop_duplicates()\n",
    "    print(f\"Data transformed, new shape: {data.shape}\")\n",
    "    return data\n",
    "\n",
    "# Load\n",
    "def load_data(data, output_path):\n",
    "    try:\n",
    "        data.to_csv(output_path, index=False)\n",
    "        print(f\"Data loaded to {output_path}\")\n",
    "    except Exception as e:\n",
    "        print(f\"Error loading data: {e}\")\n",
    "\n",
    "# Main ETL function\n",
    "def etl_process(input_path, output_path):\n",
    "    data = extract_data(input_path)\n",
    "    if data is not None:\n",
    "        transformed_data = transform_data(data)\n",
    "        load_data(transformed_data, output_path)\n",
    "\n",
    "# File paths\n",
    "input_file_path = '/mnt/data/hospital-emergency-department-encounters-by-facility.csv'\n",
    "output_file_path = '/mnt/data/processed/hospital_emergency_transformed.csv'\n",
    "\n",
    "# Run ETL process\n",
    "etl_process(input_file_path, output_file_path)"
   ]
  }
 ],
 "metadata": {
  "kernelspec": {
   "display_name": "Python 3",
   "language": "python",
   "name": "python3"
  },
  "language_info": {
   "name": "python",
   "version": "3.8"
  }
 },
 "nbformat": 4,
 "nbformat_minor": 2
}
